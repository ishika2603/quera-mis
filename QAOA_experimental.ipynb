{
 "cells": [
  {
   "cell_type": "markdown",
   "metadata": {},
   "source": [
    "# QAOA method to solve for MIS Problem\n",
    "### This notebook explores the effect of the QAOA and how it performs on increasingly more complex MIS graphs and tunes parameters and pulse sequences!"
   ]
  },
  {
   "cell_type": "code",
   "execution_count": null,
   "metadata": {
    "vscode": {
     "languageId": "plaintext"
    }
   },
   "outputs": [],
   "source": [
    "using Bloqade\n",
    "using Random\n",
    "using Optim\n",
    "Random.seed!(42)\n",
    "using PythonCall\n",
    "plt = pyimport(\"matplotlib.pyplot\");"
   ]
  },
  {
   "cell_type": "code",
   "execution_count": null,
   "metadata": {
    "vscode": {
     "languageId": "plaintext"
    }
   },
   "outputs": [],
   "source": [
    "atom1 = AtomList([(0.0, 0.0), (0.0, 4.5), (0.0, 9.0), (0.0, 13.5), (0.0, 18.0)], [(4.5, 0.0), (4.5, 4.5), \n",
    "    (4.5, 9.0), (4.5, 13.5), (4.5, 4.5)], )"
   ]
  }
 ],
 "metadata": {
  "language_info": {
   "name": "python"
  }
 },
 "nbformat": 4,
 "nbformat_minor": 2
}

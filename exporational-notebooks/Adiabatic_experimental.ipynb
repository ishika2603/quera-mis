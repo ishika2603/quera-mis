{
 "cells": [
  {
   "cell_type": "markdown",
   "metadata": {},
   "source": [
    "## This notebook explores the adiabatic method"
   ]
  },
  {
   "cell_type": "markdown",
   "metadata": {},
   "source": []
  },
  {
   "cell_type": "code",
   "execution_count": null,
   "metadata": {},
   "outputs": [],
   "source": [
    "using Bloqade\n",
    "using Random\n",
    "Random.seed!(42)\n",
    "using PythonCall\n",
    "plt = pyimport(\"matplotlib.pyplot\");"
   ]
  },
  {
   "cell_type": "code",
   "execution_count": null,
   "metadata": {},
   "outputs": [],
   "source": [
    "Random.seed!(2)\n",
    "a=4.5\n",
    "atoms = generate_sites(SquareLattice(), 4,4; scale = a) |> random_dropout(0.2)"
   ]
  },
  {
   "cell_type": "code",
   "execution_count": null,
   "metadata": {},
   "outputs": [],
   "source": [
    "Rb=sqrt(3*sqrt(5))*a\n",
    "blockade_radius = Rb"
   ]
  },
  {
   "cell_type": "code",
   "execution_count": null,
   "metadata": {},
   "outputs": [],
   "source": [
    "Bloqade.plot(atoms, blockade_radius = Rb)"
   ]
  },
  {
   "cell_type": "code",
   "execution_count": null,
   "metadata": {},
   "outputs": [],
   "source": [
    "#Total evolution time\n",
    "T_max = 3\n",
    "\n",
    "#Fix Δ according to the desired Rydberg radius\n",
    "C6 = 2π * 862690;\n",
    "Ω_max = 2π*2.5\n",
    "Δ_max = C6 / Rb^6\n",
    "a=.8\n",
    "#Build time traces for adiabatic algorithm\n",
    "Ω = piecewise_linear(clocks = [0.0, 0.25, 2.75, T_max], values = [0.0, Ω_max, Ω_max, 0])\n",
    "Δ_start = -Δ_max\n",
    "Δ_end = Δ_max\n",
    "# Δ = piecewise_linear(clocks = [0.0, 0.75, 2.25, T_max], values = [Δ_start, Δ_start, Δ_end, Δ_end])\n",
    "w1 = constant(duration=0.25, value=Δ_start)\n",
    "# w2 = Waveform( t ->  (a * (t)^3) - (4.5*a*(t)^2) + (6.75 * a * (t)) + Δ_max - (5.327*a), duration = 2.5)\n",
    "w2 = Waveform(t->(((1.36*sin((1.05*t)-(3.14/2)))^3) + (2.162/3.14*(0.4))), duration = 2.5)\n",
    "w3 = constant(duration=0.25, value=Δ_end)\n",
    "Δ = append(append(w1, w2), w3)\n",
    "#Quick plot to check\n",
    "fig, (ax1, ax2) = plt.subplots(ncols = 2, figsize = (12, 4))\n",
    "Bloqade.plot!(ax1, Ω)\n",
    "ax1.set_ylabel(\"Ω/2π (MHz)\")\n",
    "Bloqade.plot!(ax2, Δ)\n",
    "ax2.set_ylabel(\"Δ/2π (MHz)\")\n",
    "fig"
   ]
  },
  {
   "cell_type": "code",
   "execution_count": null,
   "metadata": {},
   "outputs": [],
   "source": [
    "h_kings = rydberg_h(atoms; Ω = Ω, Δ = Δ)\n",
    "prob = SchrodingerProblem(zero_state(nqubits(h_kings)), T_max, h_kings);"
   ]
  },
  {
   "cell_type": "code",
   "execution_count": null,
   "metadata": {},
   "outputs": [],
   "source": [
    "emulate!(prob)"
   ]
  },
  {
   "cell_type": "code",
   "execution_count": null,
   "metadata": {},
   "outputs": [],
   "source": [
    "bitstring_hist(prob.reg; nlargest = 10)"
   ]
  },
  {
   "cell_type": "code",
   "execution_count": null,
   "metadata": {},
   "outputs": [],
   "source": [
    "best_bit_strings = most_probable(prob.reg, 3)\n",
    "\n",
    "Bloqade.plot(atoms, blockade_radius = Rb; colors = [iszero(b) ? \"white\" : \"red\" for b in best_bit_strings[1]])"
   ]
  }
 ],
 "metadata": {
  "kernelspec": {
   "display_name": "Julia 1.10.0",
   "language": "julia",
   "name": "julia-1.10"
  },
  "language_info": {
   "name": "julia"
  }
 },
 "nbformat": 4,
 "nbformat_minor": 2
}
